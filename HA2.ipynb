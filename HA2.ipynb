{
 "cells": [
  {
   "cell_type": "code",
   "execution_count": 3,
   "id": "343c24aa",
   "metadata": {},
   "outputs": [],
   "source": [
    "from elasticsearch import Elasticsearch\n",
    "from elasticsearch.helpers import parallel_bulk\n",
    "import time\n",
    "import csv\n",
    "import json\n",
    "import requests\n",
    "import ir_measures\n",
    "from ir_measures import *\n",
    "requests.packages.urllib3.disable_warnings() "
   ]
  },
  {
   "cell_type": "code",
   "execution_count": 8,
   "id": "f71239a1",
   "metadata": {
    "scrolled": true
   },
   "outputs": [],
   "source": [
    "es = Elasticsearch([{'host' : 'localhost', 'port' : 9200, 'scheme' : 'https'}], basic_auth=(\"elastic\",\"=sz+xFIY+6ZDsVb_HaLX\"), verify_certs=False)"
   ]
  },
  {
   "cell_type": "markdown",
   "id": "5a315874",
   "metadata": {},
   "source": [
    "# Create Index"
   ]
  },
  {
   "cell_type": "code",
   "execution_count": 10,
   "id": "6568ac66",
   "metadata": {},
   "outputs": [
    {
     "ename": "BadRequestError",
     "evalue": "BadRequestError(400, 'resource_already_exists_exception', 'index [en1kindex/WUDqdbuOQ4GE7ZTxI4gbKg] already exists')",
     "output_type": "error",
     "traceback": [
      "\u001b[0;31m---------------------------------------------------------------------------\u001b[0m",
      "\u001b[0;31mBadRequestError\u001b[0m                           Traceback (most recent call last)",
      "Cell \u001b[0;32mIn[10], line 1\u001b[0m\n\u001b[0;32m----> 1\u001b[0m \u001b[43mes\u001b[49m\u001b[38;5;241;43m.\u001b[39;49m\u001b[43mindices\u001b[49m\u001b[38;5;241;43m.\u001b[39;49m\u001b[43mcreate\u001b[49m\u001b[43m(\u001b[49m\u001b[43mindex\u001b[49m\u001b[38;5;241;43m=\u001b[39;49m\u001b[38;5;124;43m'\u001b[39;49m\u001b[38;5;124;43men1kindex\u001b[39;49m\u001b[38;5;124;43m'\u001b[39;49m\u001b[43m)\u001b[49m\n",
      "File \u001b[0;32m~/miniforge3/envs/irenv/lib/python3.10/site-packages/elasticsearch/_sync/client/utils.py:414\u001b[0m, in \u001b[0;36m_rewrite_parameters.<locals>.wrapper.<locals>.wrapped\u001b[0;34m(*args, **kwargs)\u001b[0m\n\u001b[1;32m    411\u001b[0m         \u001b[38;5;28;01mexcept\u001b[39;00m \u001b[38;5;167;01mKeyError\u001b[39;00m:\n\u001b[1;32m    412\u001b[0m             \u001b[38;5;28;01mpass\u001b[39;00m\n\u001b[0;32m--> 414\u001b[0m \u001b[38;5;28;01mreturn\u001b[39;00m \u001b[43mapi\u001b[49m\u001b[43m(\u001b[49m\u001b[38;5;241;43m*\u001b[39;49m\u001b[43margs\u001b[49m\u001b[43m,\u001b[49m\u001b[43m \u001b[49m\u001b[38;5;241;43m*\u001b[39;49m\u001b[38;5;241;43m*\u001b[39;49m\u001b[43mkwargs\u001b[49m\u001b[43m)\u001b[49m\n",
      "File \u001b[0;32m~/miniforge3/envs/irenv/lib/python3.10/site-packages/elasticsearch/_sync/client/indices.py:517\u001b[0m, in \u001b[0;36mIndicesClient.create\u001b[0;34m(self, index, aliases, error_trace, filter_path, human, mappings, master_timeout, pretty, settings, timeout, wait_for_active_shards)\u001b[0m\n\u001b[1;32m    515\u001b[0m \u001b[38;5;28;01mif\u001b[39;00m __body \u001b[38;5;129;01mis\u001b[39;00m \u001b[38;5;129;01mnot\u001b[39;00m \u001b[38;5;28;01mNone\u001b[39;00m:\n\u001b[1;32m    516\u001b[0m     __headers[\u001b[38;5;124m\"\u001b[39m\u001b[38;5;124mcontent-type\u001b[39m\u001b[38;5;124m\"\u001b[39m] \u001b[38;5;241m=\u001b[39m \u001b[38;5;124m\"\u001b[39m\u001b[38;5;124mapplication/json\u001b[39m\u001b[38;5;124m\"\u001b[39m\n\u001b[0;32m--> 517\u001b[0m \u001b[38;5;28;01mreturn\u001b[39;00m \u001b[38;5;28;43mself\u001b[39;49m\u001b[38;5;241;43m.\u001b[39;49m\u001b[43mperform_request\u001b[49m\u001b[43m(\u001b[49m\u001b[43m  \u001b[49m\u001b[38;5;66;43;03m# type: ignore[return-value]\u001b[39;49;00m\n\u001b[1;32m    518\u001b[0m \u001b[43m    \u001b[49m\u001b[38;5;124;43m\"\u001b[39;49m\u001b[38;5;124;43mPUT\u001b[39;49m\u001b[38;5;124;43m\"\u001b[39;49m\u001b[43m,\u001b[49m\u001b[43m \u001b[49m\u001b[43m__path\u001b[49m\u001b[43m,\u001b[49m\u001b[43m \u001b[49m\u001b[43mparams\u001b[49m\u001b[38;5;241;43m=\u001b[39;49m\u001b[43m__query\u001b[49m\u001b[43m,\u001b[49m\u001b[43m \u001b[49m\u001b[43mheaders\u001b[49m\u001b[38;5;241;43m=\u001b[39;49m\u001b[43m__headers\u001b[49m\u001b[43m,\u001b[49m\u001b[43m \u001b[49m\u001b[43mbody\u001b[49m\u001b[38;5;241;43m=\u001b[39;49m\u001b[43m__body\u001b[49m\n\u001b[1;32m    519\u001b[0m \u001b[43m\u001b[49m\u001b[43m)\u001b[49m\n",
      "File \u001b[0;32m~/miniforge3/envs/irenv/lib/python3.10/site-packages/elasticsearch/_sync/client/_base.py:389\u001b[0m, in \u001b[0;36mNamespacedClient.perform_request\u001b[0;34m(self, method, path, params, headers, body)\u001b[0m\n\u001b[1;32m    378\u001b[0m \u001b[38;5;28;01mdef\u001b[39;00m \u001b[38;5;21mperform_request\u001b[39m(\n\u001b[1;32m    379\u001b[0m     \u001b[38;5;28mself\u001b[39m,\n\u001b[1;32m    380\u001b[0m     method: \u001b[38;5;28mstr\u001b[39m,\n\u001b[0;32m   (...)\u001b[0m\n\u001b[1;32m    387\u001b[0m     \u001b[38;5;66;03m# Use the internal clients .perform_request() implementation\u001b[39;00m\n\u001b[1;32m    388\u001b[0m     \u001b[38;5;66;03m# so we take advantage of their transport options.\u001b[39;00m\n\u001b[0;32m--> 389\u001b[0m     \u001b[38;5;28;01mreturn\u001b[39;00m \u001b[38;5;28;43mself\u001b[39;49m\u001b[38;5;241;43m.\u001b[39;49m\u001b[43m_client\u001b[49m\u001b[38;5;241;43m.\u001b[39;49m\u001b[43mperform_request\u001b[49m\u001b[43m(\u001b[49m\n\u001b[1;32m    390\u001b[0m \u001b[43m        \u001b[49m\u001b[43mmethod\u001b[49m\u001b[43m,\u001b[49m\u001b[43m \u001b[49m\u001b[43mpath\u001b[49m\u001b[43m,\u001b[49m\u001b[43m \u001b[49m\u001b[43mparams\u001b[49m\u001b[38;5;241;43m=\u001b[39;49m\u001b[43mparams\u001b[49m\u001b[43m,\u001b[49m\u001b[43m \u001b[49m\u001b[43mheaders\u001b[49m\u001b[38;5;241;43m=\u001b[39;49m\u001b[43mheaders\u001b[49m\u001b[43m,\u001b[49m\u001b[43m \u001b[49m\u001b[43mbody\u001b[49m\u001b[38;5;241;43m=\u001b[39;49m\u001b[43mbody\u001b[49m\n\u001b[1;32m    391\u001b[0m \u001b[43m    \u001b[49m\u001b[43m)\u001b[49m\n",
      "File \u001b[0;32m~/miniforge3/envs/irenv/lib/python3.10/site-packages/elasticsearch/_sync/client/_base.py:320\u001b[0m, in \u001b[0;36mBaseClient.perform_request\u001b[0;34m(self, method, path, params, headers, body)\u001b[0m\n\u001b[1;32m    317\u001b[0m         \u001b[38;5;28;01mexcept\u001b[39;00m (\u001b[38;5;167;01mValueError\u001b[39;00m, \u001b[38;5;167;01mKeyError\u001b[39;00m, \u001b[38;5;167;01mTypeError\u001b[39;00m):\n\u001b[1;32m    318\u001b[0m             \u001b[38;5;28;01mpass\u001b[39;00m\n\u001b[0;32m--> 320\u001b[0m     \u001b[38;5;28;01mraise\u001b[39;00m HTTP_EXCEPTIONS\u001b[38;5;241m.\u001b[39mget(meta\u001b[38;5;241m.\u001b[39mstatus, ApiError)(\n\u001b[1;32m    321\u001b[0m         message\u001b[38;5;241m=\u001b[39mmessage, meta\u001b[38;5;241m=\u001b[39mmeta, body\u001b[38;5;241m=\u001b[39mresp_body\n\u001b[1;32m    322\u001b[0m     )\n\u001b[1;32m    324\u001b[0m \u001b[38;5;66;03m# 'X-Elastic-Product: Elasticsearch' should be on every 2XX response.\u001b[39;00m\n\u001b[1;32m    325\u001b[0m \u001b[38;5;28;01mif\u001b[39;00m \u001b[38;5;129;01mnot\u001b[39;00m \u001b[38;5;28mself\u001b[39m\u001b[38;5;241m.\u001b[39m_verified_elasticsearch:\n\u001b[1;32m    326\u001b[0m     \u001b[38;5;66;03m# If the header is set we mark the server as verified.\u001b[39;00m\n",
      "\u001b[0;31mBadRequestError\u001b[0m: BadRequestError(400, 'resource_already_exists_exception', 'index [en1kindex/WUDqdbuOQ4GE7ZTxI4gbKg] already exists')"
     ]
    }
   ],
   "source": [
    "es.indices.create(index='en1kindex')"
   ]
  },
  {
   "cell_type": "markdown",
   "id": "b6cbcce8",
   "metadata": {},
   "source": [
    "# Configure Settings"
   ]
  },
  {
   "cell_type": "code",
   "execution_count": 11,
   "id": "88743c28",
   "metadata": {},
   "outputs": [],
   "source": [
    "mappings = {\n",
    "    'properties' : {\n",
    "        'text_right' : {\n",
    "            'type' : 'text'\n",
    "        }\n",
    "    }\n",
    "}"
   ]
  },
  {
   "cell_type": "code",
   "execution_count": 12,
   "id": "aa42d173",
   "metadata": {},
   "outputs": [],
   "source": [
    "settingsWithStemmer = {\n",
    "    'analysis' : {\n",
    "        'analyzer' : {\n",
    "            \"default\": {\n",
    "                'tokenizer' : 'whitespace',\n",
    "                'filter' : [\n",
    "                    'stemmer'\n",
    "                ]\n",
    "            },\n",
    "            \"default_search\": {\n",
    "                'tokenizer' : 'whitespace',\n",
    "                'filter' : [\n",
    "                    'stemmer'\n",
    "                ]\n",
    "            }\n",
    "        }\n",
    "    }\n",
    "    \n",
    "}"
   ]
  },
  {
   "cell_type": "code",
   "execution_count": 13,
   "id": "d4c10959",
   "metadata": {},
   "outputs": [],
   "source": [
    "settingsNoStemmer = {\n",
    "    'analysis' : {\n",
    "        'analyzer' : {\n",
    "            'default' : {\n",
    "                'tokenizer' : 'whitespace'\n",
    "            },\n",
    "            \"default_search\": {\n",
    "                'tokenizer' : 'whitespace'\n",
    "            }\n",
    "        }\n",
    "    }\n",
    "}"
   ]
  },
  {
   "cell_type": "markdown",
   "id": "8987b038",
   "metadata": {},
   "source": [
    "# Index modification"
   ]
  },
  {
   "cell_type": "code",
   "execution_count": 14,
   "id": "976f4b28",
   "metadata": {},
   "outputs": [],
   "source": [
    "def recreate_index():\n",
    "    es.indices.delete(index='en1kindex')\n",
    "    es.indices.create(index='en1kindex', mappings=mappings, settings=settingsWithStemmer)"
   ]
  },
  {
   "cell_type": "code",
   "execution_count": 15,
   "id": "ec2cee24",
   "metadata": {},
   "outputs": [],
   "source": [
    "recreate_index()"
   ]
  },
  {
   "cell_type": "markdown",
   "id": "d797ef7e",
   "metadata": {},
   "source": [
    "# Check Analyzer"
   ]
  },
  {
   "cell_type": "code",
   "execution_count": 16,
   "id": "fd4e4f99",
   "metadata": {},
   "outputs": [],
   "source": [
    "def check_analyzer(analyzer, text):\n",
    "    body = analyzer\n",
    "    body['text'] = text\n",
    "    \n",
    "    tokens = es.indices.analyze(index='en1kindex', body=body)['tokens']\n",
    "    tokens = [token_info['token'] for token_info in tokens]\n",
    "    return tokens"
   ]
  },
  {
   "cell_type": "code",
   "execution_count": 17,
   "id": "207513a3",
   "metadata": {},
   "outputs": [],
   "source": [
    "text = 'it was used in landing craft during world war ii and is used today in private boats and training facilities the 6 71 is an inline six cylinder diesel engine the 71 refers to the displacement in cubic inches of each cylinder the firing order of the engine is 1 5 3 6 2 4 the engine s compression ratio is 18 7 1 with a 4 250 inch bore and a 5 00 inch stroke the engine weighs and is 54 inches long 29 inches wide and 41 inches tall at 2 100 revolutions per minute the engine is capable of producing 230 horse power 172 kilowatts v type versions of the 71 series were developed in 1957 the 6 71 is a two stroke engine as the engine will not naturally aspirate air is provided via a roots type blower however on the 6 71t models a turbocharger and a supercharger are utilized fuel is provided by unit injectors one per cylinder the amount of fuel injected into the engine is controlled by the engine s governor the engine cooling is via liquid in a water jacket in a boat cool external water is pumped into the engine'"
   ]
  },
  {
   "cell_type": "code",
   "execution_count": 18,
   "id": "8fd59f7b",
   "metadata": {},
   "outputs": [
    {
     "name": "stderr",
     "output_type": "stream",
     "text": [
      "/var/folders/dt/073m265n33vcmnlyl34zcxfm0000gn/T/ipykernel_22219/1015729720.py:5: DeprecationWarning: The 'body' parameter is deprecated and will be removed in a future version. Instead use individual parameters.\n",
      "  tokens = es.indices.analyze(index='en1kindex', body=body)['tokens']\n"
     ]
    },
    {
     "data": {
      "text/plain": [
       "['it',\n",
       " 'wa',\n",
       " 'us',\n",
       " 'in',\n",
       " 'land',\n",
       " 'craft',\n",
       " 'dure',\n",
       " 'world',\n",
       " 'war',\n",
       " 'ii',\n",
       " 'and',\n",
       " 'is',\n",
       " 'us',\n",
       " 'todai',\n",
       " 'in',\n",
       " 'privat',\n",
       " 'boat',\n",
       " 'and',\n",
       " 'train',\n",
       " 'facil',\n",
       " 'the',\n",
       " '6',\n",
       " '71',\n",
       " 'is',\n",
       " 'an',\n",
       " 'inlin',\n",
       " 'six',\n",
       " 'cylind',\n",
       " 'diesel',\n",
       " 'engin',\n",
       " 'the',\n",
       " '71',\n",
       " 'refer',\n",
       " 'to',\n",
       " 'the',\n",
       " 'displac',\n",
       " 'in',\n",
       " 'cubic',\n",
       " 'inch',\n",
       " 'of',\n",
       " 'each',\n",
       " 'cylind',\n",
       " 'the',\n",
       " 'fire',\n",
       " 'order',\n",
       " 'of',\n",
       " 'the',\n",
       " 'engin',\n",
       " 'is',\n",
       " '1',\n",
       " '5',\n",
       " '3',\n",
       " '6',\n",
       " '2',\n",
       " '4',\n",
       " 'the',\n",
       " 'engin',\n",
       " 's',\n",
       " 'compress',\n",
       " 'ratio',\n",
       " 'is',\n",
       " '18',\n",
       " '7',\n",
       " '1',\n",
       " 'with',\n",
       " 'a',\n",
       " '4',\n",
       " '250',\n",
       " 'inch',\n",
       " 'bore',\n",
       " 'and',\n",
       " 'a',\n",
       " '5',\n",
       " '00',\n",
       " 'inch',\n",
       " 'stroke',\n",
       " 'the',\n",
       " 'engin',\n",
       " 'weigh',\n",
       " 'and',\n",
       " 'is',\n",
       " '54',\n",
       " 'inch',\n",
       " 'long',\n",
       " '29',\n",
       " 'inch',\n",
       " 'wide',\n",
       " 'and',\n",
       " '41',\n",
       " 'inch',\n",
       " 'tall',\n",
       " 'at',\n",
       " '2',\n",
       " '100',\n",
       " 'revolut',\n",
       " 'per',\n",
       " 'minut',\n",
       " 'the',\n",
       " 'engin',\n",
       " 'is',\n",
       " 'capabl',\n",
       " 'of',\n",
       " 'produc',\n",
       " '230',\n",
       " 'hors',\n",
       " 'power',\n",
       " '172',\n",
       " 'kilowatt',\n",
       " 'v',\n",
       " 'type',\n",
       " 'version',\n",
       " 'of',\n",
       " 'the',\n",
       " '71',\n",
       " 'seri',\n",
       " 'were',\n",
       " 'develop',\n",
       " 'in',\n",
       " '1957',\n",
       " 'the',\n",
       " '6',\n",
       " '71',\n",
       " 'is',\n",
       " 'a',\n",
       " 'two',\n",
       " 'stroke',\n",
       " 'engin',\n",
       " 'as',\n",
       " 'the',\n",
       " 'engin',\n",
       " 'will',\n",
       " 'not',\n",
       " 'natur',\n",
       " 'aspir',\n",
       " 'air',\n",
       " 'is',\n",
       " 'provid',\n",
       " 'via',\n",
       " 'a',\n",
       " 'root',\n",
       " 'type',\n",
       " 'blower',\n",
       " 'howev',\n",
       " 'on',\n",
       " 'the',\n",
       " '6',\n",
       " '71t',\n",
       " 'model',\n",
       " 'a',\n",
       " 'turbocharg',\n",
       " 'and',\n",
       " 'a',\n",
       " 'supercharg',\n",
       " 'ar',\n",
       " 'util',\n",
       " 'fuel',\n",
       " 'is',\n",
       " 'provid',\n",
       " 'by',\n",
       " 'unit',\n",
       " 'injector',\n",
       " 'on',\n",
       " 'per',\n",
       " 'cylind',\n",
       " 'the',\n",
       " 'amount',\n",
       " 'of',\n",
       " 'fuel',\n",
       " 'inject',\n",
       " 'into',\n",
       " 'the',\n",
       " 'engin',\n",
       " 'is',\n",
       " 'control',\n",
       " 'by',\n",
       " 'the',\n",
       " 'engin',\n",
       " 's',\n",
       " 'governor',\n",
       " 'the',\n",
       " 'engin',\n",
       " 'cool',\n",
       " 'is',\n",
       " 'via',\n",
       " 'liquid',\n",
       " 'in',\n",
       " 'a',\n",
       " 'water',\n",
       " 'jacket',\n",
       " 'in',\n",
       " 'a',\n",
       " 'boat',\n",
       " 'cool',\n",
       " 'extern',\n",
       " 'water',\n",
       " 'is',\n",
       " 'pump',\n",
       " 'into',\n",
       " 'the',\n",
       " 'engin']"
      ]
     },
     "execution_count": 18,
     "metadata": {},
     "output_type": "execute_result"
    }
   ],
   "source": [
    "analyzer = {\n",
    "    'analyzer': 'default'\n",
    "}\n",
    "\n",
    "check_analyzer(analyzer, text)"
   ]
  },
  {
   "cell_type": "code",
   "execution_count": 19,
   "id": "24eb6a38",
   "metadata": {},
   "outputs": [],
   "source": [
    "def create_es_action(index, doc_id, document):\n",
    "    return {\n",
    "        '_index': index,\n",
    "        '_id': doc_id,\n",
    "        '_source': document\n",
    "    }"
   ]
  },
  {
   "cell_type": "markdown",
   "id": "cd5e4904",
   "metadata": {},
   "source": [
    "# Index documents"
   ]
  },
  {
   "cell_type": "code",
   "execution_count": 20,
   "id": "67514d0a",
   "metadata": {},
   "outputs": [],
   "source": [
    "def es_actions_generator():\n",
    "    with open('documents.csv', 'r') as en1k:\n",
    "        documentReader = csv.DictReader(en1k)\n",
    "        for document in documentReader:\n",
    "            text_right = document['text_right']\n",
    "            docID = document[\"id_right\"]\n",
    "            doc = json.dumps({'text_right' : text_right})\n",
    "            yield create_es_action('en1kindex', docID, doc)"
   ]
  },
  {
   "cell_type": "code",
   "execution_count": 21,
   "id": "d25dedcc",
   "metadata": {},
   "outputs": [
    {
     "name": "stdout",
     "output_type": "stream",
     "text": [
      "--- 18.71962332725525 seconds ---\n"
     ]
    }
   ],
   "source": [
    "start_time = time.time()\n",
    "for ok, result in parallel_bulk(es, es_actions_generator()):\n",
    "    if not ok:\n",
    "        print(result)\n",
    "print(\"--- %s seconds ---\" % (time.time() - start_time))"
   ]
  },
  {
   "cell_type": "markdown",
   "id": "0bed079f",
   "metadata": {},
   "source": [
    "# Perform Search"
   ]
  },
  {
   "cell_type": "code",
   "execution_count": 22,
   "id": "bf1cf14e",
   "metadata": {},
   "outputs": [],
   "source": [
    "def search(queryID, query, *args):\n",
    "#     pretty_print_result(es.search(index='en1kindex', body=query, size=20), args)\n",
    "    res = es.search(index='en1kindex', query=query, size=20)['hits']\n",
    "#     fields = es.search(index='en1kindex', body=query, size=20)['fields']\n",
    "    finalRes = []\n",
    "    for hit in res['hits']:\n",
    "#         print(fields['text_right'])\n",
    "        finalRes.append((queryID, hit[\"_id\"], hit[\"_score\"]))\n",
    "    return finalRes\n",
    "    # note that size set to 20 just because default value is 10 and we know that we have 12 docs and 10 < 12 < 20\n",
    "                        "
   ]
  },
  {
   "cell_type": "markdown",
   "id": "ef4f995f",
   "metadata": {},
   "source": [
    "# Create query format"
   ]
  },
  {
   "cell_type": "code",
   "execution_count": 23,
   "id": "7087dde6",
   "metadata": {},
   "outputs": [],
   "source": [
    "query = {\n",
    "    'bool': {\n",
    "        'should': [\n",
    "            {\n",
    "                'match': {\n",
    "                    'text_right': ''\n",
    "                }\n",
    "            }\n",
    "        ]\n",
    "    }\n",
    "}\n"
   ]
  },
  {
   "cell_type": "markdown",
   "id": "e0029ff2",
   "metadata": {},
   "source": [
    "# Copy queries from test folder and generate triples and query execution time data"
   ]
  },
  {
   "cell_type": "code",
   "execution_count": 24,
   "id": "7f2db814",
   "metadata": {},
   "outputs": [
    {
     "name": "stdout",
     "output_type": "stream",
     "text": [
      "Average query processing time: 0.04237892866134643\n"
     ]
    }
   ],
   "source": [
    "triples = []\n",
    "processingTimes = []\n",
    "sumOfTimes = 0\n",
    "\n",
    "with open('test/queries.csv', 'r') as qw:\n",
    "        queryReader = csv.DictReader(qw)\n",
    "        for q in queryReader:\n",
    "            text_left = q['text_left']\n",
    "            qID = q[\"id_left\"]\n",
    "            query['bool']['should'][0]['match']['text_right'] = text_left\n",
    "            start_time = time.time()\n",
    "            triples.append(search(qID, query, 'text_right'))\n",
    "            processingTimes.append((qID, time.time() - start_time))\n",
    "            \n",
    "with open(\"triplesWithStemming.txt\", \"w\") as trp:\n",
    "    trp.write(\"q_id\\t\" + \"doc_id\\t\" + \"score\\n\")\n",
    "    for queryRes in triples:\n",
    "        for triple in queryRes:\n",
    "            trp.write(str(triple[0]) + \"\\t\" + str(triple[1]) + \"\\t\" + str(triple[2]) + \"\\n\")\n",
    "\n",
    "with open(\"queryTimeStemmerEnabled.txt\", \"w\") as prt:\n",
    "    prt.write(\"q_id\\t\" + \"time (s)\\n\")\n",
    "    for rec in processingTimes:\n",
    "        sumOfTimes += rec[1]\n",
    "        prt.write(str(rec[0]) + \"\\t\" + str(rec[1]) + \"\\n\")\n",
    "        \n",
    "print('Average query processing time: ' + str(sumOfTimes / len(processingTimes)))"
   ]
  },
  {
   "cell_type": "markdown",
   "id": "8c61d3c6",
   "metadata": {},
   "source": [
    "# Generate qrels and runs according to TREC format"
   ]
  },
  {
   "cell_type": "code",
   "execution_count": 25,
   "id": "fd1d771d",
   "metadata": {},
   "outputs": [],
   "source": [
    "with open(\"qrelsWithStemmer\", \"w\") as qrl:\n",
    "    for queryRes in triples:\n",
    "        rel = \"1\"\n",
    "        for triple in queryRes:\n",
    "            if triple[0] == triple[1]:\n",
    "                rel = \"2\"\n",
    "            else:\n",
    "                rel = \"1\"\n",
    "            qrl.write(str(triple[0]) + \"\\t0\\t\" + str(triple[1]) + \"\\t\" + rel + \"\\n\")"
   ]
  },
  {
   "cell_type": "code",
   "execution_count": 26,
   "id": "cf285113",
   "metadata": {},
   "outputs": [],
   "source": [
    "with open(\"ESWithStemmer.res\", \"w\") as run:\n",
    "    for queryRes in triples:\n",
    "        rank = 0\n",
    "        for triple in queryRes:\n",
    "            run.write(str(triple[0]) + \" Q0 \" + str(triple[1]) + \" \" + str(rank) + \" \" + str(triple[2]) + \" ES\\n\")\n",
    "            rank += 1"
   ]
  },
  {
   "cell_type": "code",
   "execution_count": 405,
   "id": "2a5e19be",
   "metadata": {},
   "outputs": [],
   "source": [
    "with open(\"qrelsNoStemmer\", \"w\") as qrl:\n",
    "    for queryRes in triples:\n",
    "        rel = \"\"\n",
    "        for triple in queryRes:\n",
    "            if triple[0] == triple[1]:\n",
    "                rel = \"1\"\n",
    "            else:\n",
    "                rel = \"0\"\n",
    "            qrl.write(str(triple[0]) + \"\\t0\\t\" + str(triple[1]) + \"\\t\" + rel + \"\\n\")"
   ]
  },
  {
   "cell_type": "code",
   "execution_count": 406,
   "id": "fbfa0dc9",
   "metadata": {},
   "outputs": [],
   "source": [
    "with open(\"ESNoStemmer.res\", \"w\") as run:\n",
    "    for queryRes in triples:\n",
    "        rank = 0\n",
    "        for triple in queryRes:\n",
    "            run.write(str(triple[0]) + \" Q0 \" + str(triple[1]) + \" \" + str(rank) + \" \" + str(triple[2]) + \" ES\\n\")\n",
    "            rank += 1"
   ]
  },
  {
   "cell_type": "markdown",
   "id": "27600f06",
   "metadata": {},
   "source": [
    "# Performance Evaluation"
   ]
  },
  {
   "cell_type": "code",
   "execution_count": 32,
   "id": "5ad10976",
   "metadata": {},
   "outputs": [
    {
     "data": {
      "text/plain": [
       "{P@10: 0.1319999999999999, AP: 0.11196168401599797, P@20: 0.09499999999999999}"
      ]
     },
     "execution_count": 32,
     "metadata": {},
     "output_type": "execute_result"
    }
   ],
   "source": [
    "qrels = ir_measures.read_trec_qrels('test/qrels')\n",
    "run = ir_measures.read_trec_run('test/BM25.res')\n",
    "ir_measures.calc_aggregate([P@10, P@20, MAP], qrels, run)"
   ]
  },
  {
   "cell_type": "code",
   "execution_count": 36,
   "id": "c2866271",
   "metadata": {},
   "outputs": [
    {
     "data": {
      "text/plain": [
       "{P@10: 0.20699999999999988, AP: 0.14816807138533647, P@20: 0.14800000000000008}"
      ]
     },
     "execution_count": 36,
     "metadata": {},
     "output_type": "execute_result"
    }
   ],
   "source": [
    "qrels = ir_measures.read_trec_qrels('test/qrels')\n",
    "run = ir_measures.read_trec_run('ESNoStemmer.res')\n",
    "ir_measures.calc_aggregate([P(rel=2)@10, P(rel=2)@20, MAP(rel=2)], qrels, run)"
   ]
  },
  {
   "cell_type": "code",
   "execution_count": 34,
   "id": "033805af",
   "metadata": {},
   "outputs": [
    {
     "data": {
      "text/plain": [
       "{P@10: 0.20999999999999994, AP: 0.1460174936389072, P@20: 0.142}"
      ]
     },
     "execution_count": 34,
     "metadata": {},
     "output_type": "execute_result"
    }
   ],
   "source": [
    "qrels = ir_measures.read_trec_qrels('test/qrels')\n",
    "run = ir_measures.read_trec_run('ESWithStemmer.res')\n",
    "ir_measures.calc_aggregate([P@10, P@20, MAP], qrels, run)"
   ]
  },
  {
   "cell_type": "code",
   "execution_count": null,
   "id": "352c8e01",
   "metadata": {},
   "outputs": [],
   "source": []
  }
 ],
 "metadata": {
  "kernelspec": {
   "display_name": "Python 3 (ipykernel)",
   "language": "python",
   "name": "python3"
  },
  "language_info": {
   "codemirror_mode": {
    "name": "ipython",
    "version": 3
   },
   "file_extension": ".py",
   "mimetype": "text/x-python",
   "name": "python",
   "nbconvert_exporter": "python",
   "pygments_lexer": "ipython3",
   "version": "3.10.9"
  }
 },
 "nbformat": 4,
 "nbformat_minor": 5
}
